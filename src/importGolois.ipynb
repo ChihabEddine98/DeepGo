{
 "cells": [
  {
   "cell_type": "code",
   "execution_count": 1,
   "metadata": {
    "colab": {
     "base_uri": "https://localhost:8080/"
    },
    "id": "ks7AjhAto2dV",
    "outputId": "759dbfdf-84d3-420c-c6f4-2a0568c06210"
   },
   "outputs": [
    {
     "name": "stdout",
     "output_type": "stream",
     "text": [
      "zsh:1: command not found: wget\r\n"
     ]
    }
   ],
   "source": [
    "!wget https://www.lamsade.dauphine.fr/~cazenave/project.zip"
   ]
  },
  {
   "cell_type": "code",
   "execution_count": 2,
   "metadata": {
    "colab": {
     "base_uri": "https://localhost:8080/"
    },
    "id": "NxriQ793publ",
    "outputId": "a6c3916e-7beb-47aa-83d4-11bb85f1ceeb"
   },
   "outputs": [
    {
     "name": "stdout",
     "output_type": "stream",
     "text": [
      "unzip:  cannot find or open project.zip, project.zip.zip or project.zip.ZIP.\r\n",
      "zsh:1: no matches found: ./project/*\r\n"
     ]
    }
   ],
   "source": [
    "!unzip project.zip\n",
    "!mv ./project/* ./"
   ]
  },
  {
   "cell_type": "code",
   "execution_count": 3,
   "metadata": {
    "colab": {
     "base_uri": "https://localhost:8080/"
    },
    "id": "SNxDy5hTfHs_",
    "outputId": "4ac8b468-65ab-49b9-8235-e49e7cb218e2"
   },
   "outputs": [
    {
     "name": "stdout",
     "output_type": "stream",
     "text": [
      "Collecting pybind11\r\n",
      "  Downloading pybind11-2.8.0-py2.py3-none-any.whl (207 kB)\r\n",
      "\u001B[K     |████████████████████████████████| 207 kB 10.4 MB/s eta 0:00:01\r\n",
      "\u001B[?25hInstalling collected packages: pybind11\r\n",
      "Successfully installed pybind11-2.8.0\r\n",
      "\u001B[33mWARNING: You are using pip version 21.0.1; however, version 21.3 is available.\r\n",
      "You should consider upgrading via the '/Library/Frameworks/Python.framework/Versions/3.8/bin/python3.8 -m pip install --upgrade pip' command.\u001B[0m\r\n",
      "chmod: ./compile.sh: No such file or directory\r\n",
      "zsh:1: no such file or directory: ./compile.sh\r\n"
     ]
    }
   ],
   "source": [
    "!pip install pybind11\n",
    "!chmod 777 ./compile.sh\n",
    "!./compile.sh"
   ]
  },
  {
   "cell_type": "code",
   "execution_count": 4,
   "metadata": {
    "colab": {
     "base_uri": "https://localhost:8080/"
    },
    "id": "1EJ6nNrfsm6c",
    "outputId": "2d93942c-40a9-4aab-ab94-b20e6798e005"
   },
   "outputs": [
    {
     "name": "stdout",
     "output_type": "stream",
     "text": [
      "  File \"golois.py\", line 30\r\n",
      "    print (\"getValidation\", flush = True)\r\n",
      "                                  ^\r\n",
      "SyntaxError: invalid syntax\r\n"
     ]
    }
   ],
   "source": [
    "!python golois.py"
   ]
  },
  {
   "cell_type": "code",
   "execution_count": null,
   "outputs": [],
   "source": [],
   "metadata": {
    "collapsed": false,
    "pycharm": {
     "name": "#%%\n"
    }
   }
  }
 ],
 "metadata": {
  "accelerator": "GPU",
  "colab": {
   "collapsed_sections": [],
   "name": "Untitled1.ipynb",
   "provenance": []
  },
  "kernelspec": {
   "display_name": "Python 3",
   "language": "python",
   "name": "python3"
  },
  "language_info": {
   "codemirror_mode": {
    "name": "ipython",
    "version": 3
   },
   "file_extension": ".py",
   "mimetype": "text/x-python",
   "name": "python",
   "nbconvert_exporter": "python",
   "pygments_lexer": "ipython3",
   "version": "3.8.5"
  }
 },
 "nbformat": 4,
 "nbformat_minor": 1
}