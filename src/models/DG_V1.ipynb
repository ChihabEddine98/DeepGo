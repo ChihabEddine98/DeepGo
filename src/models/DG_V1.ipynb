{
 "cells": [
  {
   "cell_type": "code",
   "execution_count": 1,
   "metadata": {},
   "outputs": [],
   "source": [
    "# imports\n",
    "from numpy import zeros\n",
    "from numpy.random import randint\n",
    "import tensorflow.keras as keras\n",
    "from keras.utils import to_categorical\n",
    "from tensorflow.keras import layers, regularizers\n",
    "# end imports"
   ]
  },
  {
   "cell_type": "markdown",
   "metadata": {},
   "source": [
    "# Configurations : "
   ]
  },
  {
   "cell_type": "code",
   "execution_count": null,
   "metadata": {},
   "outputs": [],
   "source": [
    "##############\n",
    "# Params\n",
    "#############\n",
    "\n",
    "PLANES = 31\n",
    "MOVES = 361\n",
    "N = 10_000\n",
    "DIM = 19\n",
    "NB_EPOCHS = 20\n",
    "BATCH_SIZE = 128"
   ]
  },
  {
   "cell_type": "markdown",
   "metadata": {},
   "source": [
    "# 1)- Shape Data (In/Out) "
   ]
  },
  {
   "cell_type": "code",
   "execution_count": null,
   "metadata": {},
   "outputs": [],
   "source": [
    "'''\n",
    "    -------------------------------------------------------------------------------------------     \n",
    "        DataHandler : in this class we handle all stuff related to data shaping and/or\n",
    "                    data to tensors creations this returned data will be helpful for training\n",
    "                    and exploited by golois.cpp util function as (getBatch and getValidation).\n",
    "    -------------------------------------------------------------------------------------------\n",
    "'''\n",
    "class DataHandler(object):\n",
    "    \n",
    "    def __init__(self,n_samples=N,dim=DIM,n_moves=MOVES,n_planes=PLANES) -> None:\n",
    "        super().__init__()\n",
    "        self.n_samples = n_samples\n",
    "        self.dim = dim\n",
    "        self.n_moves = n_moves\n",
    "        self.n_planes = n_planes\n",
    "    \n",
    "    def get_data(self):\n",
    "        # Inputs\n",
    "        input_data = randint(2, size=(self.n_samples, self.dim, self.dim, self.n_planes)).astype ('float32')\n",
    "\n",
    "        # Outputs \n",
    "        policy = to_categorical(randint(self.n_moves, size=(self.n_samples,)))\n",
    "        value =  randint(2, size=(self.n_samples,)).astype ('float32')\n",
    "\n",
    "        # For Get_Batch & Get_Validation\n",
    "        end = randint(2, size=(self.n_samples, self.dim, self.dim, 2)).astype ('float32')\n",
    "        groups = zeros((self.n_samples, self.dim, self.dim, 1)).astype ('float32')\n",
    "\n",
    "        return input_data , policy , value , end , groups"
   ]
  },
  {
   "cell_type": "markdown",
   "metadata": {},
   "source": [
    "# 2)- DeepGO Model : "
   ]
  },
  {
   "cell_type": "code",
   "execution_count": null,
   "metadata": {},
   "outputs": [],
   "source": [
    "'''\n",
    "    -------------------------------------------------------------------------------------------     \n",
    "        DGM (DeepGoModel) : in this class we handle all stuff related to the deep neural model\n",
    "                            who will represent our GO player all versions with different \n",
    "                            architechtures will inheritat this basic methods and added to them\n",
    "                            their new specific blocks or methods.\n",
    "    -------------------------------------------------------------------------------------------\n",
    "'''\n",
    "class DGM(object):\n",
    "    \n",
    "    def __init__(self) -> None:\n",
    "        super().__init__()\n",
    "    \n",
    "    def input_block(self,x):\n",
    "        pass\n",
    "\n",
    "    def output_value_block(self,x):\n",
    "        pass\n",
    "\n",
    "    def output_policy_block(self,x):\n",
    "        pass\n",
    "    \n",
    "    def residual_block(self,x):\n",
    "        pass\n",
    "\n",
    "    def activation(self,x):\n",
    "        pass \n"
   ]
  }
 ],
 "metadata": {
  "interpreter": {
   "hash": "082e9a3bcad0a290d0001e938aa60b99250c6c2ef33a923c00b70f9826caf4b7"
  },
  "kernelspec": {
   "display_name": "Python 3.8.6 64-bit",
   "language": "python",
   "name": "python3"
  },
  "language_info": {
   "codemirror_mode": {
    "name": "ipython",
    "version": 3
   },
   "file_extension": ".py",
   "mimetype": "text/x-python",
   "name": "python",
   "nbconvert_exporter": "python",
   "pygments_lexer": "ipython3",
   "version": "3.8.6"
  },
  "orig_nbformat": 4
 },
 "nbformat": 4,
 "nbformat_minor": 2
}
